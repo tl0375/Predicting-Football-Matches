{
 "cells": [
  {
   "cell_type": "code",
   "execution_count": 1,
   "id": "43ecddc2",
   "metadata": {},
   "outputs": [],
   "source": [
    "import pandas as pd\n",
    "import glob\n",
    "from difflib import get_close_matches\n",
    "from sklearn.preprocessing import LabelEncoder\n",
    "from sklearn.feature_selection import mutual_info_classif\n",
    "\n",
    "fbref_files = sorted(glob.glob(\"D:/#CSProject/Data/Fbref/*.csv\"), reverse=True)  # Folder Location Containing Fbref files \n",
    "fbref_df = pd.concat([pd.read_csv(file, encoding='utf-8', encoding_errors='replace') for file in fbref_files], ignore_index=True)\n",
    "\n",
    "football_data_files = sorted(glob.glob(\"D:/#CSProject/Data/FD/*.csv\"), reverse=True)  # Folder Location Containing Football Data files \n",
    "football_data_df = pd.concat([pd.read_csv(file, encoding='utf-8', encoding_errors='replace') for file in football_data_files], ignore_index=True)"
   ]
  },
  {
   "cell_type": "code",
   "execution_count": 2,
   "id": "e6ff5da4",
   "metadata": {},
   "outputs": [],
   "source": [
    "fbref_df['Date'] = pd.to_datetime(fbref_df['Date'], errors='coerce')  \n",
    "football_data_df['Date'] = pd.to_datetime(football_data_df['Date'], format='%d/%m/%Y', errors='coerce')  \n",
    "\n",
    "fbref_df['Date'] = fbref_df['Date'].dt.strftime('%Y-%m-%d')\n",
    "football_data_df['Date'] = football_data_df['Date'].dt.strftime('%Y-%m-%d')\n",
    "\n",
    "football_data_df = football_data_df.iloc[:, :23]\n",
    "\n",
    "fbref_df = fbref_df.rename(columns={\n",
    "    'Home xG': 'Home_xG',\n",
    "    'Away xG': 'Away_xG',\n",
    "    'Home Team': 'Home_Team',\n",
    "    'Away Team': 'Away_Team'\n",
    "})\n",
    "\n",
    "football_data_df = football_data_df.rename(columns={\n",
    "    'HomeTeam': 'Home_Team',\n",
    "    'AwayTeam': 'Away_Team',\n",
    "    'Div': 'League'\n",
    "})"
   ]
  },
  {
   "cell_type": "code",
   "execution_count": 3,
   "id": "28a70c3c-7a47-478f-b386-23ffa30a9fde",
   "metadata": {},
   "outputs": [],
   "source": [
    "name_mapping_fbref = {\n",
    "    'Spal': 'SPAL',\n",
    "    'Arminia': 'Arminia Bielefeld',\n",
    "    'Leeds United': 'Leeds',\n",
    "    'Köln' : 'FC Koln',\n",
    "    'Vitória' : 'Vitoria Guimaraes',\n",
    "    'Paços' : 'Pacos Ferreira',\n",
    "    'VitÃ³ria SetÃºbal' : 'Vitoria Setubal',\n",
    "    'B-SAD' : 'Belenenses'\n",
    "}\n",
    "\n",
    "# Replace old names with new names in the 'Team' column\n",
    "fbref_df['Home_Team'] = fbref_df['Home_Team'].replace(name_mapping_fbref)\n",
    "fbref_df['Away_Team'] = fbref_df['Away_Team'].replace(name_mapping_fbref)\n",
    "\n",
    "name_mapping_fd = {\n",
    "    'Spal': 'SPAL',\n",
    "    'Bielefeld': 'Arminia Bielefeld',\n",
    "    'Man United': 'Manchester Utd',\n",
    "    'Man City': 'Manchester City',\n",
    "    'Guimaraes' : 'Vitoria Guimaraes',\n",
    "    'Ath Bilbao' : 'Athletic Club',\n",
    "    'Setubal' : 'Vitoria Setubal',\n",
    "    'Sp Lisbon' : 'Sporting CP',\n",
    "    'St. Gilloise' : 'Union SG'\n",
    "}\n",
    "\n",
    "football_data_df['Home_Team'] = football_data_df['Home_Team'].replace(name_mapping_fd)\n",
    "football_data_df['Away_Team'] = football_data_df['Away_Team'].replace(name_mapping_fd)"
   ]
  },
  {
   "cell_type": "code",
   "execution_count": 4,
   "id": "878a4ebe",
   "metadata": {},
   "outputs": [],
   "source": [
    "teams_fbref = set(fbref_df['Home_Team'].unique())\n",
    "teams_football_data = set(football_data_df['Home_Team'].unique())\n",
    "\n",
    "mapping = {}\n",
    "for team in teams_fbref:\n",
    "    closest_match = get_close_matches(team, teams_football_data, n=1)\n",
    "    if closest_match:\n",
    "        mapping[team] = closest_match[0]\n",
    "\n",
    "# Apply the mapping to df1\n",
    "fbref_df['Home_Team'] = fbref_df['Home_Team'].replace(mapping)\n",
    "fbref_df['Away_Team'] = fbref_df['Away_Team'].replace(mapping)\n",
    "football_data_df['Home_Team'] = football_data_df['Home_Team'].replace(mapping)\n",
    "football_data_df['Away_Team'] = football_data_df['Away_Team'].replace(mapping)"
   ]
  },
  {
   "cell_type": "code",
   "execution_count": 5,
   "id": "9988a7a1-6162-4b13-bac0-ef0301439284",
   "metadata": {},
   "outputs": [
    {
     "name": "stdout",
     "output_type": "stream",
     "text": [
      "Team names in fbref not in football data: set()\n",
      "Team names in football data not in fbref: set()\n"
     ]
    }
   ],
   "source": [
    "teams_fbref_conflict = set(fbref_df['Home_Team'].unique())\n",
    "teams_football_data_conflict = set(football_data_df['Home_Team'].unique())\n",
    "\n",
    "# Identify team names in df1 that are not in df2\n",
    "conflicts_fbref = teams_fbref_conflict - teams_football_data_conflict\n",
    "\n",
    "# Identify team names in df2 that are not in df1\n",
    "conflicts_football_data = teams_football_data_conflict - teams_fbref_conflict\n",
    "\n",
    "# Display conflicting names\n",
    "print(\"Team names in fbref not in football data:\", conflicts_fbref)\n",
    "print(\"Team names in football data not in fbref:\", conflicts_football_data)"
   ]
  },
  {
   "cell_type": "code",
   "execution_count": 6,
   "id": "6e8f864e-3759-45ea-8551-c35cf2b0b993",
   "metadata": {},
   "outputs": [],
   "source": [
    "label_encoder = LabelEncoder()\n",
    "football_data_df['FTR'] = label_encoder.fit_transform(football_data_df['FTR'])"
   ]
  },
  {
   "cell_type": "code",
   "execution_count": 7,
   "id": "a733fa70-0a19-4141-a23d-16328591cfb7",
   "metadata": {},
   "outputs": [
    {
     "name": "stdout",
     "output_type": "stream",
     "text": [
      "Percentage of non-empty values in fbref_df:\n",
      "Home_xG       100.0\n",
      "Away_xG       100.0\n",
      "Home Goals    100.0\n",
      "Away Goals    100.0\n",
      "dtype: float64\n",
      "\n",
      "Percentage of non-empty values in football_data_df:\n",
      "FTHG    100.000000\n",
      "FTAG    100.000000\n",
      "FTR     100.000000\n",
      "HTHG     99.975126\n",
      "HTAG     99.975126\n",
      "HS       99.968907\n",
      "AS       99.968907\n",
      "HST      99.968907\n",
      "AST      99.968907\n",
      "HF       98.476463\n",
      "AF       98.476463\n",
      "HC       99.968907\n",
      "AC       99.968907\n",
      "HY       99.975126\n",
      "AY       99.975126\n",
      "HR       99.975126\n",
      "AR       99.975126\n",
      "dtype: float64\n"
     ]
    }
   ],
   "source": [
    "# Calculate the percentage of non-empty values in each column for fbref_df\n",
    "fbref_non_empty = (fbref_df.select_dtypes(include=[\"number\"]).notnull().sum() / len(fbref_df)) * 100\n",
    "print(\"Percentage of non-empty values in fbref_df:\")\n",
    "print(fbref_non_empty)\n",
    "\n",
    "# Calculate the percentage of non-empty values in each column for football_data_df\n",
    "football_data_non_empty = (football_data_df.select_dtypes(include=[\"number\"]).notnull().sum() / len(football_data_df)) * 100\n",
    "print(\"\\nPercentage of non-empty values in football_data_df:\")\n",
    "print(football_data_non_empty)"
   ]
  },
  {
   "cell_type": "code",
   "execution_count": 8,
   "id": "fc01cea7-aa5e-45f4-80a1-d2f2ad3b9783",
   "metadata": {},
   "outputs": [
    {
     "data": {
      "text/plain": [
       "FTR     1.000000\n",
       "FTHG    0.634763\n",
       "HTHG    0.423845\n",
       "HST     0.395731\n",
       "HS      0.207799\n",
       "AR      0.102116\n",
       "HC      0.030580\n",
       "AY      0.022406\n",
       "AF     -0.015825\n",
       "HF     -0.019891\n",
       "AC     -0.061246\n",
       "HY     -0.097026\n",
       "HR     -0.132303\n",
       "AS     -0.241826\n",
       "AST    -0.404299\n",
       "HTAG   -0.415964\n",
       "FTAG   -0.638351\n",
       "Name: FTR, dtype: float64"
      ]
     },
     "execution_count": 8,
     "metadata": {},
     "output_type": "execute_result"
    }
   ],
   "source": [
    "football_data_df.select_dtypes(include=[\"number\"]).corr()[\"FTR\"].sort_values(ascending=False)"
   ]
  },
  {
   "cell_type": "code",
   "execution_count": 9,
   "id": "a2e37b12-7484-436b-ac81-9793fd2e204e",
   "metadata": {},
   "outputs": [
    {
     "name": "stdout",
     "output_type": "stream",
     "text": [
      "FTHG    0.313377\n",
      "FTAG    0.288285\n",
      "HTHG    0.099554\n",
      "HST     0.096725\n",
      "AST     0.095408\n",
      "HTAG    0.091955\n",
      "AS      0.034426\n",
      "HS      0.033108\n",
      "AR      0.013636\n",
      "HY      0.012280\n",
      "HR      0.011809\n",
      "AC      0.007636\n",
      "AF      0.004546\n",
      "HF      0.003344\n",
      "HC      0.000000\n",
      "AY      0.000000\n",
      "dtype: float64\n"
     ]
    }
   ],
   "source": [
    "football_data_df_copy = football_data_df.dropna()\n",
    "# Select only numeric columns (excluding FTR for features)\n",
    "X = football_data_df_copy.select_dtypes(include=[\"number\"]).drop(columns=[\"FTR\"])\n",
    "y = football_data_df_copy[\"FTR\"]\n",
    "# Compute mutual information scores\n",
    "mi_scores = mutual_info_classif(X, y)\n",
    "# Convert to Pandas Series and sort\n",
    "mi_results = pd.Series(mi_scores, index=X.columns).sort_values(ascending=False)\n",
    "print(mi_results)"
   ]
  },
  {
   "cell_type": "code",
   "execution_count": 10,
   "id": "445f8502",
   "metadata": {},
   "outputs": [],
   "source": [
    "football_data_df = football_data_df[['Date', 'League', 'Home_Team', 'Away_Team', \n",
    "                                     \"FTR\", \"FTHG\", \"FTAG\", \"HS\", \"AS\", \"HST\", \"AST\"]]\n",
    "# Merge on Date, HomeTeam, and AwayTeam\n",
    "combined_df = pd.merge(\n",
    "    football_data_df,\n",
    "    fbref_df[['Date', 'Home_Team', 'Away_Team', 'Home_xG', 'Away_xG']],  # Only select relevant columns\n",
    "    on=['Date', 'Home_Team', 'Away_Team'],\n",
    "    how='left'\n",
    ")\n",
    "combined_df = combined_df.dropna()"
   ]
  },
  {
   "cell_type": "code",
   "execution_count": 11,
   "id": "6a8c92e7-1cbc-4f1c-9210-51d7a6dd2042",
   "metadata": {},
   "outputs": [],
   "source": [
    "def compute_gd_elo(df, k=32, initial_rating=1000):\n",
    "    \"\"\"\n",
    "    Compute Goal-Based Elo ratings for each team before each match,\n",
    "    storing and restoring Elo when a team returns to a league.\n",
    "    Implements the method by Hvattum & Arntzen (2010).\n",
    "    \"\"\"\n",
    "    teams = {}\n",
    "    team_leagues = {}\n",
    "    league_history = {}\n",
    "    home_elo_list, away_elo_list = [], []\n",
    "\n",
    "    def goal_multiplier(goal_diff):\n",
    "        \"\"\"Adjust K based on goal difference.\"\"\"\n",
    "        return 1 + (abs(goal_diff) ** 0.8)  # Scaling function\n",
    "\n",
    "    for idx, row in df.iterrows():\n",
    "        home_team, away_team = row['Home_Team'], row['Away_Team']\n",
    "        home_goals, away_goals = row['FTHG'], row['FTAG']\n",
    "        goal_diff = home_goals - away_goals  # Goal difference\n",
    "        home_league, away_league = row['League'], row['League']\n",
    "\n",
    "        # Initialize Elo if new team\n",
    "        if home_team not in teams:\n",
    "            teams[home_team] = initial_rating\n",
    "        if away_team not in teams:\n",
    "            teams[away_team] = initial_rating\n",
    "\n",
    "        home_elo, away_elo = teams[home_team], teams[away_team]\n",
    "\n",
    "        home_elo_list.append(home_elo)\n",
    "        away_elo_list.append(away_elo)\n",
    "\n",
    "        # Expected scores\n",
    "        expected_home = 1.0 / (1.0 + 10 ** ((away_elo - home_elo) / 400))\n",
    "        expected_away = 1.0 - expected_home\n",
    "\n",
    "        # Actual outcome\n",
    "        if goal_diff > 0:\n",
    "            score_home, score_away = 1.0, 0.0\n",
    "        elif goal_diff < 0:\n",
    "            score_home, score_away = 0.0, 1.0\n",
    "        else:\n",
    "            score_home, score_away = 0.5, 0.5\n",
    "\n",
    "        # K-factor adjustment\n",
    "        adjusted_k = k * goal_multiplier(goal_diff)\n",
    "\n",
    "        # Update Elo ratings\n",
    "        teams[home_team] = home_elo + adjusted_k * (score_home - expected_home)\n",
    "        teams[away_team] = away_elo + adjusted_k * (score_away - expected_away)\n",
    "\n",
    "    df['Home_ELO'] = home_elo_list\n",
    "    df['Away_ELO'] = away_elo_list\n",
    "    return df"
   ]
  },
  {
   "cell_type": "code",
   "execution_count": 12,
   "id": "45dd11af-3ddb-4abe-aa15-e66e866d2010",
   "metadata": {},
   "outputs": [],
   "source": [
    "def compute_streaks(df):\n",
    "    # Initialize dictionary to store streaks for each team\n",
    "    team_streaks = {}\n",
    "\n",
    "    # Lists to store streaks for the dataframe\n",
    "    home_win_streaks, away_win_streaks = [], []\n",
    "    home_loss_streaks, away_loss_streaks = [], []\n",
    "    home_unbeaten_streaks, away_unbeaten_streaks = [], []\n",
    "    home_winless_streaks, away_winless_streaks = [], []\n",
    "\n",
    "    # Loop through each match in the dataframe\n",
    "    for idx, row in df.iterrows():\n",
    "        home_team, away_team = row['Home_Team'], row['Away_Team']\n",
    "        ftr = row['FTR']  # FTR = 2 (Home Win), 0 (Away Win), 1 (Draw)\n",
    "\n",
    "        # Initialize streaks if the team is new\n",
    "        if home_team not in team_streaks:\n",
    "            team_streaks[home_team] = {\n",
    "                'home_win': 0, 'away_win': 0, 'home_loss': 0, 'away_loss': 0,\n",
    "                'home_unbeaten': 0, 'away_unbeaten': 0, 'home_winless': 0, 'away_winless': 0\n",
    "            }\n",
    "        if away_team not in team_streaks:\n",
    "            team_streaks[away_team] = {\n",
    "                'home_win': 0, 'away_win': 0, 'home_loss': 0, 'away_loss': 0,\n",
    "                'home_unbeaten': 0, 'away_unbeaten': 0, 'home_winless': 0, 'away_winless': 0\n",
    "            }\n",
    "\n",
    "        # Store current streaks before update\n",
    "        home_win_streaks.append(team_streaks[home_team]['home_win'])\n",
    "        away_win_streaks.append(team_streaks[away_team]['away_win'])\n",
    "        home_loss_streaks.append(team_streaks[home_team]['home_loss'])\n",
    "        away_loss_streaks.append(team_streaks[away_team]['away_loss'])\n",
    "        home_unbeaten_streaks.append(team_streaks[home_team]['home_unbeaten'])\n",
    "        away_unbeaten_streaks.append(team_streaks[away_team]['away_unbeaten'])\n",
    "        home_winless_streaks.append(team_streaks[home_team]['home_winless'])\n",
    "        away_winless_streaks.append(team_streaks[away_team]['away_winless'])\n",
    "\n",
    "        # Update streaks based on result\n",
    "        if ftr == 2:  # Home Win\n",
    "            team_streaks[home_team]['home_win'] += 1\n",
    "            team_streaks[away_team]['away_win'] = 0  # Reset away win streak\n",
    "\n",
    "            team_streaks[home_team]['home_loss'] = 0  # Reset home loss streak\n",
    "            team_streaks[away_team]['away_loss'] += 1  # Increase away loss streak\n",
    "\n",
    "            team_streaks[home_team]['home_unbeaten'] += 1  # Increase home unbeaten streak\n",
    "            team_streaks[away_team]['away_unbeaten'] = 0  # Reset away unbeaten streak\n",
    "\n",
    "            team_streaks[home_team]['home_winless'] = 0  # Reset home winless streak\n",
    "            team_streaks[away_team]['away_winless'] += 1  # Increase away winless streak\n",
    "\n",
    "        elif ftr == 0:  # Away Win\n",
    "            team_streaks[away_team]['away_win'] += 1\n",
    "            team_streaks[home_team]['home_win'] = 0  # Reset home win streak\n",
    "\n",
    "            team_streaks[away_team]['away_loss'] = 0  # Reset away loss streak\n",
    "            team_streaks[home_team]['home_loss'] += 1  # Increase home loss streak\n",
    "\n",
    "            team_streaks[away_team]['away_unbeaten'] += 1  # Increase away unbeaten streak\n",
    "            team_streaks[home_team]['home_unbeaten'] = 0  # Reset home unbeaten streak\n",
    "\n",
    "            team_streaks[away_team]['away_winless'] = 0  # Reset away winless streak\n",
    "            team_streaks[home_team]['home_winless'] += 1  # Increase home winless streak\n",
    "\n",
    "        else:  # Draw\n",
    "            team_streaks[home_team]['home_win'] = 0  # Reset home win streak\n",
    "            team_streaks[away_team]['away_win'] = 0  # Reset away win streak\n",
    "\n",
    "            team_streaks[home_team]['home_loss'] = 0  # Reset home loss streak\n",
    "            team_streaks[away_team]['away_loss'] = 0  # Reset away loss streak\n",
    "\n",
    "            # Increase unbeaten streaks for both teams (separately tracked)\n",
    "            team_streaks[home_team]['home_unbeaten'] += 1\n",
    "            team_streaks[away_team]['away_unbeaten'] += 1\n",
    "\n",
    "            # Increase winless streaks for both teams\n",
    "            team_streaks[home_team]['home_winless'] += 1\n",
    "            team_streaks[away_team]['away_winless'] += 1\n",
    "\n",
    "    # Add calculated streaks to the dataframe\n",
    "    df['Home_Win_Streak'] = home_win_streaks\n",
    "    df['Away_Win_Streak'] = away_win_streaks\n",
    "    df['Home_Loss_Streak'] = home_loss_streaks\n",
    "    df['Away_Loss_Streak'] = away_loss_streaks\n",
    "    df['Home_Unbeaten_Streak'] = home_unbeaten_streaks\n",
    "    df['Away_Unbeaten_Streak'] = away_unbeaten_streaks\n",
    "    df['Home_Winless_Streak'] = home_winless_streaks\n",
    "    df['Away_Winless_Streak'] = away_winless_streaks\n",
    "\n",
    "    return df"
   ]
  },
  {
   "cell_type": "code",
   "execution_count": 13,
   "id": "86ff2bc6-dc79-4a9f-8f42-7a75cb10af2f",
   "metadata": {},
   "outputs": [],
   "source": [
    "def add_recent_points(df, window_sizes=[5, 10, 20]):\n",
    "    \"\"\"\n",
    "    Adds rolling points over the last 'n' games for home and away teams.\n",
    "\n",
    "    Parameters:\n",
    "    df (pd.DataFrame): The match dataset with teams and results.\n",
    "    window_sizes (list): The number of past games to consider (default: [5, 10]).\n",
    "\n",
    "    Returns:\n",
    "    pd.DataFrame: Updated dataframe with rolling points for each team.\n",
    "    \"\"\"\n",
    "    team_points = {}  # Dictionary to track team results over time\n",
    "\n",
    "    # Initialize columns for each rolling window\n",
    "    for window in window_sizes:\n",
    "        df[f\"Home_Points_Last_{window}\"] = 0\n",
    "        df[f\"Away_Points_Last_{window}\"] = 0\n",
    "\n",
    "    # Iterate over matches\n",
    "    for idx, row in df.iterrows():\n",
    "        home_team, away_team = row[\"Home_Team\"], row[\"Away_Team\"]\n",
    "        ftr = row[\"FTR\"]  # 2 = Home Win, 1 = Draw, 0 = Away Win\n",
    "\n",
    "        # Assign points based on result\n",
    "        home_points, away_points = 0, 0\n",
    "        if ftr == 2:  # Home win\n",
    "            home_points, away_points = 3, 0\n",
    "        elif ftr == 1:  # Draw\n",
    "            home_points, away_points = 1, 1\n",
    "        elif ftr == 0:  # Away win\n",
    "            home_points, away_points = 0, 3\n",
    "\n",
    "        # Initialize history for teams if not present\n",
    "        if home_team not in team_points:\n",
    "            team_points[home_team] = []\n",
    "        if away_team not in team_points:\n",
    "            team_points[away_team] = []\n",
    "\n",
    "        # Store rolling points before updating\n",
    "        for window in window_sizes:\n",
    "            df.at[idx, f\"Home_Points_Last_{window}\"] = sum(team_points[home_team][-window:])\n",
    "            df.at[idx, f\"Away_Points_Last_{window}\"] = sum(team_points[away_team][-window:])\n",
    "\n",
    "        # Append the latest match result to the team's history\n",
    "        team_points[home_team].append(home_points)\n",
    "        team_points[away_team].append(away_points)\n",
    "\n",
    "    return df"
   ]
  },
  {
   "cell_type": "code",
   "execution_count": 14,
   "id": "244bf720-7a1c-411c-8eb4-b6db57cb118d",
   "metadata": {},
   "outputs": [],
   "source": [
    "def add_net_stats(df):\n",
    "    stat_pairs = {\n",
    "        \"FTG\": (\"FTHG\", \"FTAG\"),\n",
    "        \"xG\": (\"Home_xG\", \"Away_xG\"),\n",
    "        \"S\": (\"HS\", \"AS\"),\n",
    "        \"ST\": (\"HST\", \"AST\"),\n",
    "    }\n",
    "\n",
    "    # Loop through stat pairs and calculate net stats\n",
    "    for stat_name, (home_stat, away_stat) in stat_pairs.items():\n",
    "        df[f\"Home_Net_{stat_name}\"] = df[home_stat] - df[away_stat]\n",
    "        df[f\"Away_Net_{stat_name}\"] = df[away_stat] - df[home_stat]\n",
    "\n",
    "    return df\n"
   ]
  },
  {
   "cell_type": "code",
   "execution_count": 15,
   "id": "293286e7-cd20-49ca-b119-ea7e978a7032",
   "metadata": {},
   "outputs": [],
   "source": [
    "def add_conceded_stats(df):\n",
    "    df[\"FTHG_Conceded\"] = df[\"FTAG\"]\n",
    "    df[\"FTAG_Conceded\"] = df[\"FTHG\"]\n",
    "\n",
    "    df[\"HST_Conceded\"] = df[\"AST\"]\n",
    "    df[\"AST_Conceded\"] = df[\"HST\"]\n",
    "    \n",
    "    df[\"HS_Conceded\"] = df[\"AS\"]\n",
    "    df[\"AS_Conceded\"] = df[\"HS\"]\n",
    "    \n",
    "    df[\"Home_xG_Conceded\"] = df[\"Away_xG\"]\n",
    "    df[\"Away_xG_Conceded\"] = df[\"Home_xG\"]\n",
    "    \n",
    "    return df"
   ]
  },
  {
   "cell_type": "code",
   "execution_count": 16,
   "id": "a0deb2af-29d9-4d7f-8546-7ebf639a59bb",
   "metadata": {},
   "outputs": [],
   "source": [
    "combined_df = compute_gd_elo(combined_df)\n",
    "combined_df = compute_streaks(combined_df)\n",
    "combined_df = add_recent_points(combined_df)"
   ]
  },
  {
   "cell_type": "code",
   "execution_count": 17,
   "id": "a1b64645-246a-4c91-9e3f-05299fdeb311",
   "metadata": {},
   "outputs": [],
   "source": [
    "combined_df = add_net_stats(combined_df)\n",
    "combined_df = add_conceded_stats(combined_df)"
   ]
  },
  {
   "cell_type": "code",
   "execution_count": 18,
   "id": "acce3879-cae1-4376-815a-f8438766212a",
   "metadata": {},
   "outputs": [],
   "source": [
    "correlations = combined_df.select_dtypes(include=[\"number\"]).corr()[\"FTR\"].sort_values(ascending=False)"
   ]
  },
  {
   "cell_type": "code",
   "execution_count": 19,
   "id": "d7f43ad4-b9d8-4c85-a6d2-76a6636a2db0",
   "metadata": {
    "scrolled": true
   },
   "outputs": [
    {
     "name": "stdout",
     "output_type": "stream",
     "text": [
      "Home_Points_Last_20     0.236652\n",
      "Home_Points_Last_10     0.220119\n",
      "Home_Points_Last_5      0.189453\n",
      "Home_Unbeaten_Streak    0.149765\n",
      "Home_Win_Streak         0.129634\n",
      "Away_Winless_Streak     0.101443\n",
      "Away_Loss_Streak        0.084152\n",
      "Home_Loss_Streak       -0.084334\n",
      "Home_Winless_Streak    -0.096310\n",
      "Away_Win_Streak        -0.128216\n",
      "Away_Unbeaten_Streak   -0.145424\n",
      "Away_Points_Last_5     -0.192567\n",
      "Away_Points_Last_10    -0.227454\n",
      "Away_Points_Last_20    -0.240074\n",
      "Name: FTR, dtype: float64\n"
     ]
    }
   ],
   "source": [
    "# Filter correlations that contain either \"Streak\" or \"ELO\"\n",
    "engineered_stats_correlations = correlations[correlations.index.str.contains(\"Streak|Points\")]\n",
    "\n",
    "# Print the filtered correlations\n",
    "print(engineered_stats_correlations)"
   ]
  },
  {
   "cell_type": "code",
   "execution_count": 20,
   "id": "6d90c920-8e2b-4faf-80cc-303004b6cf72",
   "metadata": {},
   "outputs": [
    {
     "name": "stdout",
     "output_type": "stream",
     "text": [
      "Home_Net_FTG        0.855471\n",
      "FTAG_Conceded       0.634708\n",
      "Home_Net_xG         0.533330\n",
      "Home_Net_ST         0.525301\n",
      "Away_xG_Conceded    0.411525\n",
      "AST_Conceded        0.395896\n",
      "Home_Net_S          0.276586\n",
      "Home_ELO            0.263620\n",
      "AS_Conceded         0.207869\n",
      "HS_Conceded        -0.241777\n",
      "Away_ELO           -0.272992\n",
      "Away_Net_S         -0.276586\n",
      "HST_Conceded       -0.404207\n",
      "Home_xG_Conceded   -0.419517\n",
      "Away_Net_ST        -0.525301\n",
      "Away_Net_xG        -0.533330\n",
      "FTHG_Conceded      -0.638297\n",
      "Away_Net_FTG       -0.855471\n",
      "Name: FTR, dtype: float64\n"
     ]
    }
   ],
   "source": [
    "# Filter correlations that contain either \"Streak\" or \"ELO\"\n",
    "engineered_stats_correlations2 = correlations[correlations.index.str.contains(\"Net|ELO|Conceded\")]\n",
    "\n",
    "# Print the filtered correlations\n",
    "print(engineered_stats_correlations2)"
   ]
  },
  {
   "cell_type": "code",
   "execution_count": 21,
   "id": "c368f32f-d702-45cd-b2da-eaa63b0cdb37",
   "metadata": {},
   "outputs": [],
   "source": [
    "# Select only numeric columns (excluding FTR for features)\n",
    "X = combined_df.select_dtypes(include=[\"number\"]).drop(columns=[\"FTR\"])\n",
    "y = combined_df[\"FTR\"]\n",
    "# Compute mutual information scores\n",
    "mi_scores = mutual_info_classif(X, y)\n",
    "# Convert to Pandas Series and sort\n",
    "mi_results = pd.Series(mi_scores, index=X.columns).sort_values(ascending=False)"
   ]
  },
  {
   "cell_type": "code",
   "execution_count": 22,
   "id": "4ff0b77d-915e-4fb8-90b4-9067b829bcab",
   "metadata": {},
   "outputs": [
    {
     "name": "stdout",
     "output_type": "stream",
     "text": [
      "Home_Points_Last_20     0.031968\n",
      "Away_Points_Last_20     0.030872\n",
      "Away_Points_Last_10     0.026188\n",
      "Home_Points_Last_10     0.026026\n",
      "Home_Points_Last_5      0.015632\n",
      "Away_Win_Streak         0.015200\n",
      "Away_Points_Last_5      0.014219\n",
      "Home_Win_Streak         0.012722\n",
      "Home_Winless_Streak     0.011718\n",
      "Away_Unbeaten_Streak    0.009193\n",
      "Home_Unbeaten_Streak    0.009004\n",
      "Away_Winless_Streak     0.004085\n",
      "Away_Loss_Streak        0.000710\n",
      "Home_Loss_Streak        0.000000\n",
      "dtype: float64\n"
     ]
    }
   ],
   "source": [
    "# Select only metrics that contain \"Streak\" or \"ELO\"\n",
    "engineered_stats_mi = mi_results[mi_results.index.str.contains(\"Streak|Points\")]\n",
    "\n",
    "# Print the filtered metrics\n",
    "print(engineered_stats_mi)"
   ]
  },
  {
   "cell_type": "code",
   "execution_count": 23,
   "id": "f7019675-189d-444a-91e9-29a1b7a79b6c",
   "metadata": {},
   "outputs": [
    {
     "name": "stdout",
     "output_type": "stream",
     "text": [
      "Away_Net_FTG        1.071493\n",
      "Home_Net_FTG        1.071431\n",
      "FTAG_Conceded       0.310707\n",
      "FTHG_Conceded       0.285246\n",
      "Home_Net_xG         0.174071\n",
      "Away_Net_xG         0.173568\n",
      "Away_Net_ST         0.160332\n",
      "Home_Net_ST         0.158483\n",
      "HST_Conceded        0.100404\n",
      "Home_xG_Conceded    0.100221\n",
      "AST_Conceded        0.099227\n",
      "Away_xG_Conceded    0.095157\n",
      "Away_Net_S          0.044976\n",
      "Home_Net_S          0.042142\n",
      "Home_ELO            0.037502\n",
      "Away_ELO            0.035725\n",
      "HS_Conceded         0.031570\n",
      "AS_Conceded         0.026359\n",
      "dtype: float64\n"
     ]
    }
   ],
   "source": [
    "# Select only metrics that contain \"Streak\" or \"ELO\"\n",
    "engineered_stats_mi2 = mi_results[mi_results.index.str.contains(\"Net|ELO|Conceded\")]\n",
    "\n",
    "# Print the filtered metrics\n",
    "print(engineered_stats_mi2)"
   ]
  },
  {
   "cell_type": "code",
   "execution_count": 24,
   "id": "af3eeaeb-ec82-477a-8a99-4a845fa2fb22",
   "metadata": {},
   "outputs": [],
   "source": [
    "combined_df.to_csv(\"D:/#CSProject/Data/combined_datasetxg.csv\", index=False)"
   ]
  }
 ],
 "metadata": {
  "kernelspec": {
   "display_name": "Python 3 (ipykernel)",
   "language": "python",
   "name": "python3"
  },
  "language_info": {
   "codemirror_mode": {
    "name": "ipython",
    "version": 3
   },
   "file_extension": ".py",
   "mimetype": "text/x-python",
   "name": "python",
   "nbconvert_exporter": "python",
   "pygments_lexer": "ipython3",
   "version": "3.12.3"
  }
 },
 "nbformat": 4,
 "nbformat_minor": 5
}
